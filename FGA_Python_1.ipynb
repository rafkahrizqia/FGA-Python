{
  "nbformat": 4,
  "nbformat_minor": 0,
  "metadata": {
    "kernelspec": {
      "display_name": "Python 3",
      "language": "python",
      "name": "python3"
    },
    "language_info": {
      "codemirror_mode": {
        "name": "ipython",
        "version": 3
      },
      "file_extension": ".py",
      "mimetype": "text/x-python",
      "name": "python",
      "nbconvert_exporter": "python",
      "pygments_lexer": "ipython3",
      "version": "3.8.3"
    },
    "colab": {
      "name": "Meeting 4.ipynb",
      "provenance": [],
      "include_colab_link": true
    }
  },
  "cells": [
    {
      "cell_type": "markdown",
      "metadata": {
        "id": "view-in-github",
        "colab_type": "text"
      },
      "source": [
        "<a href=\"https://colab.research.google.com/github/rafkahrizqia/FGA-Python/blob/main/FGA_Python_1.ipynb\" target=\"_parent\"><img src=\"https://colab.research.google.com/assets/colab-badge.svg\" alt=\"Open In Colab\"/></a>"
      ]
    },
    {
      "cell_type": "markdown",
      "metadata": {
        "id": "i7LctjH_OEIs"
      },
      "source": [
        "# Latihan"
      ]
    },
    {
      "cell_type": "markdown",
      "metadata": {
        "id": "8File5RzOEIw"
      },
      "source": [
        "Latihan ini dilakukan untuk memenuhi tugas FGA. "
      ]
    },
    {
      "cell_type": "markdown",
      "metadata": {
        "id": "urHk8qRmOEIy"
      },
      "source": [
        "Soal 1"
      ]
    },
    {
      "cell_type": "code",
      "metadata": {
        "id": "dJOb1T80OEIz",
        "outputId": "b08d6abd-4314-4f54-cc97-a802ef0ff0ce"
      },
      "source": [
        "print(\"1\")\n",
        "print(\"12\")\n",
        "print(\"1 3\")\n",
        "print(\"1  4\")\n",
        "print(\"1234\")"
      ],
      "execution_count": null,
      "outputs": [
        {
          "output_type": "stream",
          "text": [
            "1\n",
            "12\n",
            "1 3\n",
            "1  4\n",
            "1234\n"
          ],
          "name": "stdout"
        }
      ]
    },
    {
      "cell_type": "markdown",
      "metadata": {
        "id": "L1zyVe0VOEI2"
      },
      "source": [
        "Soal 2"
      ]
    },
    {
      "cell_type": "code",
      "metadata": {
        "id": "kHauIsA6OEI2",
        "outputId": "119009cf-fff3-4ba4-ad60-4cc662a43efe"
      },
      "source": [
        "print(\"1\", \"\\n12\", \"\\n1 3\",\"\\n1  4\",\"\\n12345\")"
      ],
      "execution_count": null,
      "outputs": [
        {
          "output_type": "stream",
          "text": [
            "1 \n",
            "12 \n",
            "1 3 \n",
            "1  4 \n",
            "12345\n"
          ],
          "name": "stdout"
        }
      ]
    },
    {
      "cell_type": "markdown",
      "metadata": {
        "id": "zntbXkpHOEI3"
      },
      "source": [
        "Soal 3"
      ]
    },
    {
      "cell_type": "code",
      "metadata": {
        "id": "B_cZ8_j2OEI6",
        "outputId": "1ce5eedb-cd5a-4df4-9cbe-8ceec8d490ef"
      },
      "source": [
        "x=\"FGA\"\n",
        "N=10\n",
        "print(N*x)"
      ],
      "execution_count": null,
      "outputs": [
        {
          "output_type": "stream",
          "text": [
            "FGAFGAFGAFGAFGAFGAFGAFGAFGAFGA\n"
          ],
          "name": "stdout"
        }
      ]
    },
    {
      "cell_type": "markdown",
      "metadata": {
        "id": "hvzXK2unOEI7"
      },
      "source": [
        "Soal 4"
      ]
    },
    {
      "cell_type": "code",
      "metadata": {
        "id": "kgiaKUk5OEI8",
        "outputId": "0489c8fe-fd85-48e0-9502-fa42926607d6"
      },
      "source": [
        "print(\"FGA\",end=' ')\n",
        "print(\"BIG DATA\",end=' ')\n",
        "print(\"2021\")"
      ],
      "execution_count": null,
      "outputs": [
        {
          "output_type": "stream",
          "text": [
            "FGA BIG DATA 2021\n"
          ],
          "name": "stdout"
        }
      ]
    },
    {
      "cell_type": "markdown",
      "metadata": {
        "id": "QXvPkZcpOEI9"
      },
      "source": [
        "Soal 5"
      ]
    },
    {
      "cell_type": "code",
      "metadata": {
        "id": "-2r9RM4SOEI9",
        "outputId": "e25d19ac-f104-4330-c1a4-48aa14759049"
      },
      "source": [
        "hg1=100\n",
        "hg2=200\n",
        "hg3=400\n",
        "hg4=150\n",
        "hg5=400\n",
        "\n",
        "b1=10\n",
        "b2=8\n",
        "b3=9\n",
        "b4=15\n",
        "b5=20\n",
        "\n",
        "total = (hg1*b1)+(hg2*b2)+(hg3*b3)+(hg4*b4)+(hg5*b5)\n",
        "print(total)"
      ],
      "execution_count": null,
      "outputs": [
        {
          "output_type": "stream",
          "text": [
            "16450\n"
          ],
          "name": "stdout"
        }
      ]
    },
    {
      "cell_type": "markdown",
      "metadata": {
        "id": "ZwKRoT6UOEI-"
      },
      "source": [
        "Soal 6"
      ]
    },
    {
      "cell_type": "code",
      "metadata": {
        "id": "iYt8RSYqOEI-",
        "outputId": "e926236d-2bae-431a-dcd1-a82ea3b4bfda"
      },
      "source": [
        "jam=60 \n",
        "menit=1\n",
        "awal_jam = 8*jam +2*menit\n",
        "akhir_jam = 10*jam + 10*menit\n",
        "\n",
        "perbedaan = akhir_jam - awal_jam\n",
        "print(perbedaan)\n"
      ],
      "execution_count": null,
      "outputs": [
        {
          "output_type": "stream",
          "text": [
            "128\n"
          ],
          "name": "stdout"
        }
      ]
    },
    {
      "cell_type": "markdown",
      "metadata": {
        "id": "Li6Sk63hOEI_"
      },
      "source": [
        "Soal 7"
      ]
    },
    {
      "cell_type": "code",
      "metadata": {
        "id": "6Bg7RyQpOEI_",
        "outputId": "ef1c890c-ea61-4372-9aac-f28183c84107"
      },
      "source": [
        "jam=60 \n",
        "menit=1\n",
        "awal_jam = 8*jam +2*menit\n",
        "akhir_jam = 10*jam + 10*menit\n",
        "\n",
        "perbedaan = akhir_jam - awal_jam\n",
        "print(perbedaan*2, \"$\")\n"
      ],
      "execution_count": null,
      "outputs": [
        {
          "output_type": "stream",
          "text": [
            "256 $\n"
          ],
          "name": "stdout"
        }
      ]
    },
    {
      "cell_type": "markdown",
      "metadata": {
        "id": "xbZxaiC-OEJA"
      },
      "source": [
        "Soal 8"
      ]
    },
    {
      "cell_type": "code",
      "metadata": {
        "id": "emmKlCHuOEJA",
        "outputId": "92401f1b-da1c-4267-8898-e4f6dd85e66f"
      },
      "source": [
        "print('x:')\n",
        "x = int(input())\n",
        "print('y:')\n",
        "y = int(input())\n",
        "print('z:')\n",
        "z = int(input())\n",
        "\n",
        "a=(x**3)/(y**z)+5\n",
        "\n",
        "print(a)"
      ],
      "execution_count": null,
      "outputs": [
        {
          "output_type": "stream",
          "text": [
            "x:\n",
            "3\n",
            "y:\n",
            "2\n",
            "z:\n",
            "2\n",
            "11.75\n"
          ],
          "name": "stdout"
        }
      ]
    },
    {
      "cell_type": "markdown",
      "metadata": {
        "id": "zgCojTqkOEJA"
      },
      "source": [
        "Soal 9"
      ]
    },
    {
      "cell_type": "code",
      "metadata": {
        "id": "ZkSwbNLJOEJB",
        "outputId": "816f70f7-d5cd-463b-b397-42024b277f0d"
      },
      "source": [
        "print('x:')\n",
        "x = int(input())\n",
        "y=2+x/(2+x/(2+x/(2+x/(2+x/2))))\n",
        "print(y)"
      ],
      "execution_count": null,
      "outputs": [
        {
          "output_type": "stream",
          "text": [
            "x:\n",
            "2\n",
            "2.7333333333333334\n"
          ],
          "name": "stdout"
        }
      ]
    },
    {
      "cell_type": "markdown",
      "metadata": {
        "id": "Gxm95WeEOEJD"
      },
      "source": [
        "Soal 10"
      ]
    },
    {
      "cell_type": "code",
      "metadata": {
        "id": "-qAdOqz-OEJD",
        "outputId": "2acbd75c-02bc-4f07-cfd2-ab6a8393f5a5"
      },
      "source": [
        "print('a:')\n",
        "a = int(input())\n",
        "print('b:')\n",
        "b = int(input())\n",
        "print('c:')\n",
        "c = int(input())\n",
        "print('d:')\n",
        "d = int(input())\n",
        "print('e:')\n",
        "e = int(input())\n",
        "\n",
        "average = (a+b+c+d+e)/5\n",
        "\n",
        "print(average)"
      ],
      "execution_count": null,
      "outputs": [
        {
          "output_type": "stream",
          "text": [
            "a:\n",
            "2\n",
            "b:\n",
            "3\n",
            "c:\n",
            "4\n",
            "d:\n",
            "5\n",
            "e:\n",
            "6\n",
            "4.0\n"
          ],
          "name": "stdout"
        }
      ]
    },
    {
      "cell_type": "markdown",
      "metadata": {
        "id": "XDLq_CGXOEJE"
      },
      "source": [
        "Soal 11"
      ]
    },
    {
      "cell_type": "code",
      "metadata": {
        "id": "m9F2foWoOEJE",
        "outputId": "a73f3acd-4521-400c-a260-cebdf6123db6"
      },
      "source": [
        "jam=60\n",
        "menit=1\n",
        "awal_jam = 8*jam +20*menit\n",
        "akhir_jam = 10*jam + 10*menit\n",
        "\n",
        "perbedaan = akhir_jam - awal_jam\n",
        "jam_display = perbedaan//60\n",
        "menit_display = perbedaan%60\n",
        "\n",
        "print(jam_display, \"jam\", menit_display, \"menit\")"
      ],
      "execution_count": null,
      "outputs": [
        {
          "output_type": "stream",
          "text": [
            "1 jam 50 menit\n"
          ],
          "name": "stdout"
        }
      ]
    },
    {
      "cell_type": "markdown",
      "metadata": {
        "id": "RGA9VBDEOEJE"
      },
      "source": [
        "Soal 12"
      ]
    },
    {
      "cell_type": "code",
      "metadata": {
        "id": "T8JZvQ4YOEJF",
        "outputId": "f774be2f-a0d4-4317-e1cd-79a888ddb99e"
      },
      "source": [
        "jam=60\n",
        "menit=1\n",
        "awal_jam = 8*jam +20*menit\n",
        "akhir_jam = 10*jam + 10*menit\n",
        "\n",
        "perbedaan = akhir_jam - awal_jam\n",
        "jam_display = perbedaan//60\n",
        "menit_display = perbedaan%60\n",
        "biaya_perjam = 20*jam_display\n",
        "biaya_permenit = 2*menit_display\n",
        "total_biaya = biaya_perjam + biaya_permenit \n",
        "\n",
        "print(\"Biaya Perjalanan: \", total_biaya, \"$\")"
      ],
      "execution_count": null,
      "outputs": [
        {
          "output_type": "stream",
          "text": [
            "Biaya Perjalanan:  120 $\n"
          ],
          "name": "stdout"
        }
      ]
    },
    {
      "cell_type": "markdown",
      "metadata": {
        "id": "IiFecGWzOEJF"
      },
      "source": [
        "Soal 13"
      ]
    },
    {
      "cell_type": "code",
      "metadata": {
        "scrolled": true,
        "id": "HdGbEVqBOEJF",
        "outputId": "8b8e8a76-a545-4396-ecd7-0177bffc71a3"
      },
      "source": [
        "jam_kemenit = 60\n",
        "jam_kedetik = 3600\n",
        "menit_kedetik = 60\n",
        "detik=1\n",
        "\n",
        "awal_jam = 8*jam_kedetik + 20*menit_kedetik + 15*detik\n",
        "akhir_jam = 10*jam_kedetik + 10*menit_kedetik + 30*detik\n",
        "\n",
        "perbedaan_detik = akhir_jam - awal_jam\n",
        "konversi_jam = perbedaan_detik//3600\n",
        "konversi_menit = perbedaan_detik - konversi_jam*3600 \n",
        "konversi_detik_menit =konversi_menit//60\n",
        "sisa_detik = konversi_menit%60\n",
        "biaya_perjam = konversi_jam*20\n",
        "biaya_permenit = konversi_detik_menit*2\n",
        "biaya_detik = sisa_detik * 1\n",
        "total_biaya = biaya_perjam + biaya_permenit + biaya_perdetik\n",
        "\n",
        "print(konversi_jam,\"Jam\", konversi_detik_menit,\"Menit\", sisa_detik, \"Detik\")\n",
        "print(\"Biaya Perjalanan: \", total_biaya, \"$\")"
      ],
      "execution_count": null,
      "outputs": [
        {
          "output_type": "stream",
          "text": [
            "1 Jam 50 Menit 15 Detik\n",
            "Biaya Perjalanan:  135 $\n"
          ],
          "name": "stdout"
        }
      ]
    },
    {
      "cell_type": "code",
      "metadata": {
        "id": "0S6bifEoOEJG"
      },
      "source": [
        ""
      ],
      "execution_count": null,
      "outputs": []
    },
    {
      "cell_type": "code",
      "metadata": {
        "id": "-tQNJLF9OEJG"
      },
      "source": [
        ""
      ],
      "execution_count": null,
      "outputs": []
    }
  ]
}