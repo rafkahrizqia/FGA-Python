{
  "nbformat": 4,
  "nbformat_minor": 0,
  "metadata": {
    "kernelspec": {
      "display_name": "Python 3",
      "language": "python",
      "name": "python3"
    },
    "language_info": {
      "codemirror_mode": {
        "name": "ipython",
        "version": 3
      },
      "file_extension": ".py",
      "mimetype": "text/x-python",
      "name": "python",
      "nbconvert_exporter": "python",
      "pygments_lexer": "ipython3",
      "version": "3.8.3"
    },
    "colab": {
      "name": "FGA Meeting 8.ipynb",
      "provenance": [],
      "collapsed_sections": [],
      "include_colab_link": true
    }
  },
  "cells": [
    {
      "cell_type": "markdown",
      "metadata": {
        "id": "view-in-github",
        "colab_type": "text"
      },
      "source": [
        "<a href=\"https://colab.research.google.com/github/rafkahrizqia/FGA-Python/blob/main/FGA_Python_3.ipynb\" target=\"_parent\"><img src=\"https://colab.research.google.com/assets/colab-badge.svg\" alt=\"Open In Colab\"/></a>"
      ]
    },
    {
      "cell_type": "markdown",
      "metadata": {
        "id": "UxtwjcHrFpXO"
      },
      "source": [
        "# Latihan 3"
      ]
    },
    {
      "cell_type": "markdown",
      "metadata": {
        "id": "xEblsmR7FpXO"
      },
      "source": [
        "Soal dari meeting 8"
      ]
    },
    {
      "cell_type": "code",
      "metadata": {
        "id": "7CL4CT9bFpXO",
        "outputId": "0376d8e4-474a-4455-e6ff-26e31bbd36c7"
      },
      "source": [
        "#Soal 1\n",
        "def menyapa():\n",
        "    print(\"Apa kabar?\")\n",
        "menyapa()"
      ],
      "execution_count": null,
      "outputs": [
        {
          "output_type": "stream",
          "text": [
            "Apa kabar?\n"
          ],
          "name": "stdout"
        }
      ]
    },
    {
      "cell_type": "code",
      "metadata": {
        "id": "vbgoMCPOFpXP",
        "outputId": "0f8202b4-1fd5-4712-afc1-4df536dfc459"
      },
      "source": [
        "#Soal 2\n",
        "def menyapa(n_depan, n_belakang):\n",
        "    print(\"Apa kabar \", n_depan, n_belakang, \"?\")\n",
        "menyapa(\"Rafkah\", \"Rizqia\")"
      ],
      "execution_count": null,
      "outputs": [
        {
          "output_type": "stream",
          "text": [
            "Apa kabar  Rafkah Rizqia ?\n"
          ],
          "name": "stdout"
        }
      ]
    },
    {
      "cell_type": "code",
      "metadata": {
        "id": "RHXAs_jYFpXP",
        "outputId": "956f857c-59d0-4fa0-bb9a-02a040102dbc"
      },
      "source": [
        "#Soal 3\n",
        "def kali(List, nilai=100):\n",
        "    hasil = 0\n",
        "    for x in List:\n",
        "        hasil=hasil+x\n",
        "    hasil=hasil*nilai\n",
        "    return hasil \n",
        "L=[1,2,3]\n",
        "N=10\n",
        "print(kali(L,N))\n",
        "print(kali(L))\n",
        "\n"
      ],
      "execution_count": null,
      "outputs": [
        {
          "output_type": "stream",
          "text": [
            "60\n",
            "600\n"
          ],
          "name": "stdout"
        }
      ]
    },
    {
      "cell_type": "code",
      "metadata": {
        "id": "IqesOwDGFpXP",
        "outputId": "f8e271d0-084e-49ef-a8bf-11bed76cf734"
      },
      "source": [
        "#Soal 4\n",
        "def jumlah_huruf(kata):\n",
        "    upper=0\n",
        "    lower=0\n",
        "    if not kata:\n",
        "        return 0,0\n",
        "    else:\n",
        "        upper, lower = jumlah_huruf(kata[1:])\n",
        "        if kata[0].isupper():\n",
        "            return upper+1, lower\n",
        "        elif kata[0].islower():\n",
        "            return upper, lower+1\n",
        "        else:\n",
        "            # make sure that this is what you want\n",
        "            return upper, lower\n",
        "jumlah_huruf(\"WHAT4thisw0rd\")"
      ],
      "execution_count": null,
      "outputs": [
        {
          "output_type": "execute_result",
          "data": {
            "text/plain": [
              "(4, 7)"
            ]
          },
          "metadata": {
            "tags": []
          },
          "execution_count": 9
        }
      ]
    },
    {
      "cell_type": "code",
      "metadata": {
        "id": "U5FRh2obFpXQ",
        "outputId": "107bf58b-4a5f-4abf-eb49-936fba1156e3"
      },
      "source": [
        "#Soal 5\n",
        "def genap(angka):\n",
        "    hasil = []\n",
        "    for i in angka:\n",
        "        if i%2 == 0:\n",
        "            hasil.append(i)\n",
        "    return hasil\n",
        "input = [1,2,3,4,4,5,7,8]\n",
        "angka = genap(input)\n",
        "print(\"Angka genap = \", angka)    "
      ],
      "execution_count": null,
      "outputs": [
        {
          "output_type": "stream",
          "text": [
            "Angka genap =  [2, 4, 4, 8]\n"
          ],
          "name": "stdout"
        }
      ]
    },
    {
      "cell_type": "code",
      "metadata": {
        "id": "BenqEaquFpXQ",
        "outputId": "b6989856-05ca-4cd1-af21-d244ae7ee7b2"
      },
      "source": [
        "#Soal 6\n",
        "def pangkat(nilai, pangkat):\n",
        "    if pangkat==0:\n",
        "        return 1\n",
        "    elif pangkat==1:\n",
        "        return nilai \n",
        "    else:\n",
        "        hasil_pangkat = nilai**pangkat\n",
        "        return hasil_pangkat\n",
        "pangkat(2, 3)"
      ],
      "execution_count": null,
      "outputs": [
        {
          "output_type": "execute_result",
          "data": {
            "text/plain": [
              "8"
            ]
          },
          "metadata": {
            "tags": []
          },
          "execution_count": 15
        }
      ]
    },
    {
      "cell_type": "code",
      "metadata": {
        "id": "RiCV7H-SFpXR",
        "outputId": "47686a1d-a8e0-4b83-c82d-0d0eafceeae8"
      },
      "source": [
        "#Soal 7\n",
        "tuples = (1, 5, \"FGA\", 6, \"FGA\", 5, 5, 7, \"FGA\")\n",
        "jumlah_5 = 0\n",
        "jumlahFGA = 0\n",
        "def cek(tuples):\n",
        "    hasil = []\n",
        "    for i in tuples:\n",
        "        if i == 5:\n",
        "            hasil.append(i)\n",
        "        elif i == \"FGA\":\n",
        "            hasil.append(i)\n",
        "    return hasil\n",
        "    \n",
        "print(len(hasil))"
      ],
      "execution_count": null,
      "outputs": [
        {
          "output_type": "stream",
          "text": [
            "6\n"
          ],
          "name": "stdout"
        }
      ]
    },
    {
      "cell_type": "code",
      "metadata": {
        "id": "el3_Nn4FFpXR"
      },
      "source": [
        ""
      ],
      "execution_count": null,
      "outputs": []
    }
  ]
}