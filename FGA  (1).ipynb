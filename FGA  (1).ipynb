{
 "cells": [
  {
   "cell_type": "markdown",
   "metadata": {},
   "source": [
    "# Latihan 1"
   ]
  },
  {
   "cell_type": "markdown",
   "metadata": {},
   "source": [
    "Latihan ini dilakukan untuk memenuhi tugas FGA. "
   ]
  },
  {
   "cell_type": "markdown",
   "metadata": {},
   "source": [
    "Soal 1"
   ]
  },
  {
   "cell_type": "code",
   "execution_count": 45,
   "metadata": {},
   "outputs": [
    {
     "name": "stdout",
     "output_type": "stream",
     "text": [
      "1\n",
      "12\n",
      "1 3\n",
      "1  4\n",
      "1234\n"
     ]
    }
   ],
   "source": [
    "print(\"1\")\n",
    "print(\"12\")\n",
    "print(\"1 3\")\n",
    "print(\"1  4\")\n",
    "print(\"1234\")"
   ]
  },
  {
   "cell_type": "markdown",
   "metadata": {},
   "source": [
    "Soal 2"
   ]
  },
  {
   "cell_type": "code",
   "execution_count": 46,
   "metadata": {},
   "outputs": [
    {
     "name": "stdout",
     "output_type": "stream",
     "text": [
      "1 \n",
      "12 \n",
      "1 3 \n",
      "1  4 \n",
      "12345\n"
     ]
    }
   ],
   "source": [
    "print(\"1\", \"\\n12\", \"\\n1 3\",\"\\n1  4\",\"\\n12345\")"
   ]
  },
  {
   "cell_type": "markdown",
   "metadata": {},
   "source": [
    "Soal 3"
   ]
  },
  {
   "cell_type": "code",
   "execution_count": 48,
   "metadata": {},
   "outputs": [
    {
     "name": "stdout",
     "output_type": "stream",
     "text": [
      "FGAFGAFGAFGAFGAFGAFGAFGAFGAFGA\n"
     ]
    }
   ],
   "source": [
    "x=\"FGA\"\n",
    "N=10\n",
    "print(N*x)"
   ]
  },
  {
   "cell_type": "markdown",
   "metadata": {},
   "source": [
    "Soal 4"
   ]
  },
  {
   "cell_type": "code",
   "execution_count": 14,
   "metadata": {},
   "outputs": [
    {
     "name": "stdout",
     "output_type": "stream",
     "text": [
      "FGA BIG DATA 2021\n"
     ]
    }
   ],
   "source": [
    "print(\"FGA\",end=' ')\n",
    "print(\"BIG DATA\",end=' ')\n",
    "print(\"2021\")"
   ]
  },
  {
   "cell_type": "markdown",
   "metadata": {},
   "source": [
    "Soal 5"
   ]
  },
  {
   "cell_type": "code",
   "execution_count": 15,
   "metadata": {},
   "outputs": [
    {
     "name": "stdout",
     "output_type": "stream",
     "text": [
      "16450\n"
     ]
    }
   ],
   "source": [
    "hg1=100\n",
    "hg2=200\n",
    "hg3=400\n",
    "hg4=150\n",
    "hg5=400\n",
    "\n",
    "b1=10\n",
    "b2=8\n",
    "b3=9\n",
    "b4=15\n",
    "b5=20\n",
    "\n",
    "total = (hg1*b1)+(hg2*b2)+(hg3*b3)+(hg4*b4)+(hg5*b5)\n",
    "print(total)"
   ]
  },
  {
   "cell_type": "markdown",
   "metadata": {},
   "source": [
    "Soal 6"
   ]
  },
  {
   "cell_type": "code",
   "execution_count": 18,
   "metadata": {},
   "outputs": [
    {
     "name": "stdout",
     "output_type": "stream",
     "text": [
      "128\n"
     ]
    }
   ],
   "source": [
    "jam=60 \n",
    "menit=1\n",
    "awal_jam = 8*jam +2*menit\n",
    "akhir_jam = 10*jam + 10*menit\n",
    "\n",
    "perbedaan = akhir_jam - awal_jam\n",
    "print(perbedaan)\n"
   ]
  },
  {
   "cell_type": "markdown",
   "metadata": {},
   "source": [
    "Soal 7"
   ]
  },
  {
   "cell_type": "code",
   "execution_count": 20,
   "metadata": {},
   "outputs": [
    {
     "name": "stdout",
     "output_type": "stream",
     "text": [
      "256 $\n"
     ]
    }
   ],
   "source": [
    "jam=60 \n",
    "menit=1\n",
    "awal_jam = 8*jam +2*menit\n",
    "akhir_jam = 10*jam + 10*menit\n",
    "\n",
    "perbedaan = akhir_jam - awal_jam\n",
    "print(perbedaan*2, \"$\")\n"
   ]
  },
  {
   "cell_type": "markdown",
   "metadata": {},
   "source": [
    "Soal 8"
   ]
  },
  {
   "cell_type": "code",
   "execution_count": 25,
   "metadata": {},
   "outputs": [
    {
     "name": "stdout",
     "output_type": "stream",
     "text": [
      "x:\n",
      "3\n",
      "y:\n",
      "2\n",
      "z:\n",
      "2\n",
      "11.75\n"
     ]
    }
   ],
   "source": [
    "print('x:')\n",
    "x = int(input())\n",
    "print('y:')\n",
    "y = int(input())\n",
    "print('z:')\n",
    "z = int(input())\n",
    "\n",
    "a=(x**3)/(y**z)+5\n",
    "\n",
    "print(a)"
   ]
  },
  {
   "cell_type": "markdown",
   "metadata": {},
   "source": [
    "Soal 9"
   ]
  },
  {
   "cell_type": "code",
   "execution_count": 26,
   "metadata": {},
   "outputs": [
    {
     "name": "stdout",
     "output_type": "stream",
     "text": [
      "x:\n",
      "2\n",
      "2.7333333333333334\n"
     ]
    }
   ],
   "source": [
    "print('x:')\n",
    "x = int(input())\n",
    "y=2+x/(2+x/(2+x/(2+x/(2+x/2))))\n",
    "print(y)"
   ]
  },
  {
   "cell_type": "markdown",
   "metadata": {},
   "source": [
    "Soal 10"
   ]
  },
  {
   "cell_type": "code",
   "execution_count": 2,
   "metadata": {},
   "outputs": [
    {
     "name": "stdout",
     "output_type": "stream",
     "text": [
      "a:\n",
      "2\n",
      "b:\n",
      "3\n",
      "c:\n",
      "4\n",
      "d:\n",
      "5\n",
      "e:\n",
      "6\n",
      "4.0\n"
     ]
    }
   ],
   "source": [
    "print('a:')\n",
    "a = int(input())\n",
    "print('b:')\n",
    "b = int(input())\n",
    "print('c:')\n",
    "c = int(input())\n",
    "print('d:')\n",
    "d = int(input())\n",
    "print('e:')\n",
    "e = int(input())\n",
    "\n",
    "average = (a+b+c+d+e)/5\n",
    "\n",
    "print(average)"
   ]
  },
  {
   "cell_type": "markdown",
   "metadata": {},
   "source": [
    "Soal 11"
   ]
  },
  {
   "cell_type": "code",
   "execution_count": 6,
   "metadata": {},
   "outputs": [
    {
     "name": "stdout",
     "output_type": "stream",
     "text": [
      "1 jam 50 menit\n"
     ]
    }
   ],
   "source": [
    "jam=60\n",
    "menit=1\n",
    "awal_jam = 8*jam +20*menit\n",
    "akhir_jam = 10*jam + 10*menit\n",
    "\n",
    "perbedaan = akhir_jam - awal_jam\n",
    "jam_display = perbedaan//60\n",
    "menit_display = perbedaan%60\n",
    "\n",
    "print(jam_display, \"jam\", menit_display, \"menit\")"
   ]
  },
  {
   "cell_type": "markdown",
   "metadata": {},
   "source": [
    "Soal 12"
   ]
  },
  {
   "cell_type": "code",
   "execution_count": 7,
   "metadata": {},
   "outputs": [
    {
     "name": "stdout",
     "output_type": "stream",
     "text": [
      "Biaya Perjalanan:  120 $\n"
     ]
    }
   ],
   "source": [
    "jam=60\n",
    "menit=1\n",
    "awal_jam = 8*jam +20*menit\n",
    "akhir_jam = 10*jam + 10*menit\n",
    "\n",
    "perbedaan = akhir_jam - awal_jam\n",
    "jam_display = perbedaan//60\n",
    "menit_display = perbedaan%60\n",
    "biaya_perjam = 20*jam_display\n",
    "biaya_permenit = 2*menit_display\n",
    "total_biaya = biaya_perjam + biaya_permenit \n",
    "\n",
    "print(\"Biaya Perjalanan: \", total_biaya, \"$\")"
   ]
  },
  {
   "cell_type": "markdown",
   "metadata": {},
   "source": [
    "Soal 13"
   ]
  },
  {
   "cell_type": "code",
   "execution_count": 44,
   "metadata": {
    "scrolled": true
   },
   "outputs": [
    {
     "name": "stdout",
     "output_type": "stream",
     "text": [
      "1 Jam 50 Menit 15 Detik\n",
      "Biaya Perjalanan:  135 $\n"
     ]
    }
   ],
   "source": [
    "jam_kemenit = 60\n",
    "jam_kedetik = 3600\n",
    "menit_kedetik = 60\n",
    "detik=1\n",
    "\n",
    "awal_jam = 8*jam_kedetik + 20*menit_kedetik + 15*detik\n",
    "akhir_jam = 10*jam_kedetik + 10*menit_kedetik + 30*detik\n",
    "\n",
    "perbedaan_detik = akhir_jam - awal_jam\n",
    "konversi_jam = perbedaan_detik//3600\n",
    "konversi_menit = perbedaan_detik - konversi_jam*3600 \n",
    "konversi_detik_menit =konversi_menit//60\n",
    "sisa_detik = konversi_menit%60\n",
    "biaya_perjam = konversi_jam*20\n",
    "biaya_permenit = konversi_detik_menit*2\n",
    "biaya_detik = sisa_detik * 1\n",
    "total_biaya = biaya_perjam + biaya_permenit + biaya_perdetik\n",
    "\n",
    "print(konversi_jam,\"Jam\", konversi_detik_menit,\"Menit\", sisa_detik, \"Detik\")\n",
    "print(\"Biaya Perjalanan: \", total_biaya, \"$\")"
   ]
  },
  {
   "cell_type": "markdown",
   "metadata": {},
   "source": [
    "# Latihan 2"
   ]
  },
  {
   "cell_type": "markdown",
   "metadata": {},
   "source": [
    "Soal dari meeting 6"
   ]
  },
  {
   "cell_type": "code",
   "execution_count": null,
   "metadata": {},
   "outputs": [],
   "source": []
  },
  {
   "cell_type": "markdown",
   "metadata": {},
   "source": [
    "# Latihan 3"
   ]
  },
  {
   "cell_type": "markdown",
   "metadata": {},
   "source": [
    "Soal dari meeting 8"
   ]
  },
  {
   "cell_type": "code",
   "execution_count": 5,
   "metadata": {},
   "outputs": [
    {
     "name": "stdout",
     "output_type": "stream",
     "text": [
      "Apa kabar?\n"
     ]
    }
   ],
   "source": [
    "#Soal 1\n",
    "def menyapa():\n",
    "    print(\"Apa kabar?\")\n",
    "menyapa()"
   ]
  },
  {
   "cell_type": "code",
   "execution_count": 6,
   "metadata": {},
   "outputs": [
    {
     "name": "stdout",
     "output_type": "stream",
     "text": [
      "Apa kabar  Rafkah Rizqia ?\n"
     ]
    }
   ],
   "source": [
    "#Soal 2\n",
    "def menyapa(n_depan, n_belakang):\n",
    "    print(\"Apa kabar \", n_depan, n_belakang, \"?\")\n",
    "menyapa(\"Rafkah\", \"Rizqia\")"
   ]
  },
  {
   "cell_type": "code",
   "execution_count": 8,
   "metadata": {},
   "outputs": [
    {
     "name": "stdout",
     "output_type": "stream",
     "text": [
      "60\n",
      "600\n"
     ]
    }
   ],
   "source": [
    "#Soal 3\n",
    "def kali(List, nilai=100):\n",
    "    hasil = 0\n",
    "    for x in List:\n",
    "        hasil=hasil+x\n",
    "    hasil=hasil*nilai\n",
    "    return hasil \n",
    "L=[1,2,3]\n",
    "N=10\n",
    "print(kali(L,N))\n",
    "print(kali(L))\n",
    "\n"
   ]
  },
  {
   "cell_type": "code",
   "execution_count": 9,
   "metadata": {},
   "outputs": [
    {
     "data": {
      "text/plain": [
       "(4, 7)"
      ]
     },
     "execution_count": 9,
     "metadata": {},
     "output_type": "execute_result"
    }
   ],
   "source": [
    "#Soal 4\n",
    "def jumlah_huruf(kata):\n",
    "    upper=0\n",
    "    lower=0\n",
    "    if not kata:\n",
    "        return 0,0\n",
    "    else:\n",
    "        upper, lower = jumlah_huruf(kata[1:])\n",
    "        if kata[0].isupper():\n",
    "            return upper+1, lower\n",
    "        elif kata[0].islower():\n",
    "            return upper, lower+1\n",
    "        else:\n",
    "            # make sure that this is what you want\n",
    "            return upper, lower\n",
    "jumlah_huruf(\"WHAT4thisw0rd\")"
   ]
  },
  {
   "cell_type": "code",
   "execution_count": 14,
   "metadata": {},
   "outputs": [
    {
     "name": "stdout",
     "output_type": "stream",
     "text": [
      "Angka genap =  [2, 4, 4, 8]\n"
     ]
    }
   ],
   "source": [
    "#Soal 5\n",
    "def genap(angka):\n",
    "    hasil = []\n",
    "    for i in angka:\n",
    "        if i%2 == 0:\n",
    "            hasil.append(i)\n",
    "    return hasil\n",
    "input = [1,2,3,4,4,5,7,8]\n",
    "angka = genap(input)\n",
    "print(\"Angka genap = \", angka)    "
   ]
  },
  {
   "cell_type": "code",
   "execution_count": 15,
   "metadata": {},
   "outputs": [
    {
     "data": {
      "text/plain": [
       "8"
      ]
     },
     "execution_count": 15,
     "metadata": {},
     "output_type": "execute_result"
    }
   ],
   "source": [
    "#Soal 6\n",
    "def pangkat(nilai, pangkat):\n",
    "    if pangkat==0:\n",
    "        return 1\n",
    "    elif pangkat==1:\n",
    "        return nilai \n",
    "    else:\n",
    "        hasil_pangkat = nilai**pangkat\n",
    "        return hasil_pangkat\n",
    "pangkat(2, 3)"
   ]
  },
  {
   "cell_type": "code",
   "execution_count": 28,
   "metadata": {},
   "outputs": [
    {
     "name": "stdout",
     "output_type": "stream",
     "text": [
      "6\n"
     ]
    }
   ],
   "source": [
    "#Soal 7\n",
    "tuples = (1, 5, \"FGA\", 6, \"FGA\", 5, 5, 7, \"FGA\")\n",
    "jumlah_5 = 0\n",
    "jumlahFGA = 0\n",
    "def cek(tuples):\n",
    "    hasil = []\n",
    "    for i in tuples:\n",
    "        if i == 5:\n",
    "            hasil.append(i)\n",
    "        elif i == \"FGA\":\n",
    "            hasil.append(i)\n",
    "    return hasil\n",
    "    \n",
    "print(len(hasil))"
   ]
  },
  {
   "cell_type": "code",
   "execution_count": null,
   "metadata": {},
   "outputs": [],
   "source": []
  }
 ],
 "metadata": {
  "kernelspec": {
   "display_name": "Python 3",
   "language": "python",
   "name": "python3"
  },
  "language_info": {
   "codemirror_mode": {
    "name": "ipython",
    "version": 3
   },
   "file_extension": ".py",
   "mimetype": "text/x-python",
   "name": "python",
   "nbconvert_exporter": "python",
   "pygments_lexer": "ipython3",
   "version": "3.8.3"
  }
 },
 "nbformat": 4,
 "nbformat_minor": 4
}
